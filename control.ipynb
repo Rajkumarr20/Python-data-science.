{
 "cells": [
  {
   "cell_type": "markdown",
   "metadata": {},
   "source": [
    "# Control Statements\n",
    "\n",
    "3 types\n",
    "\n",
    "Single Condition based program (if)\n",
    "\n",
    "complete (if - else)\n",
    "\n",
    "multiple (nested if)\n"
   ]
  },
  {
   "cell_type": "code",
   "execution_count": 1,
   "metadata": {},
   "outputs": [
    {
     "name": "stdout",
     "output_type": "stream",
     "text": [
      "b is greater than a\n"
     ]
    }
   ],
   "source": [
    "a = 3\n",
    "b = 6\n",
    "if b > a:\n",
    "    print(\"b is greater than a\")"
   ]
  },
  {
   "cell_type": "markdown",
   "metadata": {},
   "source": [
    "# Indantaton\n",
    "whitespace at the beginning of a line"
   ]
  },
  {
   "cell_type": "code",
   "execution_count": 2,
   "metadata": {},
   "outputs": [
    {
     "name": "stdout",
     "output_type": "stream",
     "text": [
      "the end\n"
     ]
    }
   ],
   "source": [
    "# to check even or odd number\n",
    "x = 123\n",
    "if x%2==0:\n",
    "    print (\" even no.\")\n",
    "print(\"the end\")"
   ]
  },
  {
   "cell_type": "markdown",
   "metadata": {},
   "source": [
    "# If - else"
   ]
  },
  {
   "cell_type": "code",
   "execution_count": 1,
   "metadata": {},
   "outputs": [
    {
     "data": {
      "text/plain": [
       "10"
      ]
     },
     "execution_count": 1,
     "metadata": {},
     "output_type": "execute_result"
    }
   ],
   "source": [
    "word= 'volkswagen'\n",
    "len(word)"
   ]
  },
  {
   "cell_type": "code",
   "execution_count": 3,
   "metadata": {},
   "outputs": [
    {
     "name": "stdout",
     "output_type": "stream",
     "text": [
      "well done\n"
     ]
    }
   ],
   "source": [
    "#to check input is numeric\n",
    "num = input(\"enter a number\")\n",
    "if num.isnumeric(): #function\n",
    "    print(\"well done\")\n",
    "    num = int(num)\n",
    "else:\n",
    "    print(\"Bad input\")"
   ]
  },
  {
   "cell_type": "code",
   "execution_count": 4,
   "metadata": {},
   "outputs": [
    {
     "data": {
      "text/plain": [
       "True"
      ]
     },
     "execution_count": 4,
     "metadata": {},
     "output_type": "execute_result"
    }
   ],
   "source": [
    "a = \"1\" # variable\n",
    "a.isnumeric()"
   ]
  },
  {
   "cell_type": "markdown",
   "metadata": {},
   "source": [
    "# Nested if\n",
    "to place one if inside another if statement"
   ]
  },
  {
   "cell_type": "code",
   "execution_count": 6,
   "metadata": {},
   "outputs": [
    {
     "name": "stdout",
     "output_type": "stream",
     "text": [
      "welcome to WWF\n"
     ]
    }
   ],
   "source": [
    "# for Nested if\n",
    "#username = 'john'\n",
    "#email = 'john@gmail.com\n",
    "#password = '123'\n",
    "username = input('enter name')\n",
    "password = input('Enter password')\n",
    "email = input('enter email')\n",
    "if username  == 'john':\n",
    "    if email == 'john@gmail.com':\n",
    "        if password == '123':\n",
    "            print(\"welcome to WWF\")\n",
    "        else:\n",
    "            print(\"wrong password\")\n",
    "    else:\n",
    "        print(\"wrong email\")\n",
    "else:\n",
    "    print(\"wrong username\")"
   ]
  },
  {
   "cell_type": "markdown",
   "metadata": {},
   "source": [
    "wap to calculate the grade of student based on the marks with the following rules:\n",
    "\n",
    "-if marks >= 90 grade is A\n",
    "-if marks >=80 grade is B\n",
    "--if marks >=70 grade is C\n",
    "-if marks >=60 grade is D\n",
    "-if marks < 60 grade is F\n",
    "-if marks is not a number grade is \"invalid\""
   ]
  },
  {
   "cell_type": "code",
   "execution_count": 8,
   "metadata": {},
   "outputs": [
    {
     "name": "stdout",
     "output_type": "stream",
     "text": [
      "Grade is B\n"
     ]
    }
   ],
   "source": [
    "marks = input(\"enter your marks\")\n",
    "if not marks.isnumeric():\n",
    "    print(\"Invalid\") \n",
    "else:\n",
    "    marks = int(marks)\n",
    "if marks >= 90:\n",
    "    print(\"Grade is A\")\n",
    "elif marks >= 80:\n",
    "    print(\"Grade is B\")\n",
    "elif marks >= 70:\n",
    "    print(\"grade is C\")\n",
    "elif marks >= 60:\n",
    "    print(\"D\")\n",
    "else:\n",
    "    print(\"Invalid Marks\")"
   ]
  },
  {
   "cell_type": "markdown",
   "metadata": {},
   "source": [
    "# Loop in python\n",
    "\n",
    "for\n",
    "\n",
    "while"
   ]
  },
  {
   "cell_type": "code",
   "execution_count": 9,
   "metadata": {},
   "outputs": [
    {
     "data": {
      "text/plain": [
       "8"
      ]
     },
     "execution_count": 9,
     "metadata": {},
     "output_type": "execute_result"
    }
   ],
   "source": [
    "#word counting\n",
    "word = 'volkegan'\n",
    "len(word)"
   ]
  },
  {
   "cell_type": "code",
   "execution_count": 10,
   "metadata": {},
   "outputs": [
    {
     "name": "stdout",
     "output_type": "stream",
     "text": [
      "p\n",
      "y\n",
      "t\n",
      "h\n",
      "o\n",
      "n\n"
     ]
    }
   ],
   "source": [
    "x = \"python\"\n",
    "for i in x:\n",
    "    print(i)"
   ]
  },
  {
   "cell_type": "markdown",
   "metadata": {},
   "source": [
    "# for string\n",
    "\n",
    "string setting\n",
    "\n",
    "r = raw\n",
    "\n",
    "f = formatted\n",
    "\n",
    "b = byte string"
   ]
  },
  {
   "cell_type": "code",
   "execution_count": 11,
   "metadata": {},
   "outputs": [
    {
     "name": "stdout",
     "output_type": "stream",
     "text": [
      "i have apple\n",
      "i have mango\n",
      "i have banana\n",
      "i have lemon\n"
     ]
    }
   ],
   "source": [
    "fruits = ['apple','mango','banana','lemon']\n",
    "for item in fruits:\n",
    "    print(f'i have {item}')"
   ]
  },
  {
   "cell_type": "code",
   "execution_count": 12,
   "metadata": {},
   "outputs": [
    {
     "name": "stdout",
     "output_type": "stream",
     "text": [
      "i have 10 Bird\n"
     ]
    }
   ],
   "source": [
    "a = 10\n",
    "b = \"Bird\"\n",
    "print(f'i have {a} {b}')"
   ]
  },
  {
   "cell_type": "markdown",
   "metadata": {},
   "source": [
    "# range() function is used to specify the limit\n",
    "\n",
    "3 main option\n",
    "\n",
    "starting value\n",
    "\n",
    "stoping value\n",
    "\n",
    "step\n",
    "\n",
    "example - range(3,20,2)"
   ]
  },
  {
   "cell_type": "code",
   "execution_count": 13,
   "metadata": {},
   "outputs": [
    {
     "name": "stdout",
     "output_type": "stream",
     "text": [
      "you got point 0\n",
      "you got point 1\n",
      "you got point 2\n",
      "you got point 3\n",
      "you got point 4\n",
      "you got point 5\n"
     ]
    }
   ],
   "source": [
    "for i in range(6):\n",
    "    print('you got point',i)"
   ]
  },
  {
   "cell_type": "code",
   "execution_count": 14,
   "metadata": {},
   "outputs": [
    {
     "name": "stdout",
     "output_type": "stream",
     "text": [
      "sheep 2\n",
      "sheep 3\n",
      "sheep 4\n",
      "sheep 5\n",
      "sheep 6\n",
      "sheep 7\n",
      "sheep 8\n",
      "sheep 9\n",
      "sheep 10\n",
      "sheep 11\n",
      "sheep 12\n",
      "sheep 13\n",
      "sheep 14\n",
      "sheep 15\n",
      "sheep 16\n"
     ]
    }
   ],
   "source": [
    "for num in range(2,17):\n",
    "    print('sheep',num)"
   ]
  },
  {
   "cell_type": "code",
   "execution_count": 15,
   "metadata": {},
   "outputs": [
    {
     "name": "stdout",
     "output_type": "stream",
     "text": [
      "level 2\n",
      "level 5\n",
      "level 8\n"
     ]
    }
   ],
   "source": [
    "for num in range(2,11,3):\n",
    "    print('level',num)"
   ]
  },
  {
   "cell_type": "code",
   "execution_count": 17,
   "metadata": {},
   "outputs": [
    {
     "name": "stdout",
     "output_type": "stream",
     "text": [
      "\n",
      "na\n",
      "nana\n",
      "nanana\n",
      "nananana\n",
      "nanananana\n",
      "nananananana\n",
      "nanananananana\n",
      "nananananananana\n",
      "nanananananananana\n"
     ]
    }
   ],
   "source": [
    "#reverse loop\n",
    "for i in range(10):\n",
    "    print(i * 'na')"
   ]
  },
  {
   "cell_type": "markdown",
   "metadata": {},
   "source": [
    "# extra functional setting for for loop\n",
    "\n",
    "enumerate\n",
    "\n",
    "zip"
   ]
  },
  {
   "cell_type": "code",
   "execution_count": 20,
   "metadata": {},
   "outputs": [
    {
     "name": "stdout",
     "output_type": "stream",
     "text": [
      "apple\n",
      "mango\n",
      "orange\n",
      "lemon\n",
      "chery\n",
      "banana\n"
     ]
    }
   ],
   "source": [
    "fruits = ['apple','mango','orange','lemon','chery','banana']\n",
    "for fruit in fruits:\n",
    "    print(fruit)"
   ]
  },
  {
   "cell_type": "markdown",
   "metadata": {},
   "source": [
    "The enumerate() function return index of all items in iterables(lists,dictionary,sets etc.) whereas zip() function is used to aggregate or combine ,multiple iterables."
   ]
  },
  {
   "cell_type": "code",
   "execution_count": 21,
   "metadata": {},
   "outputs": [
    {
     "name": "stdout",
     "output_type": "stream",
     "text": [
      "0 apple\n",
      "1 mango\n",
      "2 orange\n",
      "3 lemon\n",
      "4 chery\n",
      "5 banana\n"
     ]
    }
   ],
   "source": [
    "for  i, fruit in enumerate(fruits):\n",
    "    print(i,fruit)"
   ]
  },
  {
   "cell_type": "code",
   "execution_count": 26,
   "metadata": {},
   "outputs": [],
   "source": [
    "prices = [70,550,110]"
   ]
  },
  {
   "cell_type": "code",
   "execution_count": 28,
   "metadata": {},
   "outputs": [
    {
     "name": "stdout",
     "output_type": "stream",
     "text": [
      "apple => 70\n",
      "mango => 550\n",
      "orange => 110\n"
     ]
    }
   ],
   "source": [
    "for f,p in zip(fruits,prices):\n",
    "    print(f,'=>' ,p)"
   ]
  },
  {
   "cell_type": "code",
   "execution_count": 29,
   "metadata": {},
   "outputs": [],
   "source": [
    "qty = ['2kg','5kg','8kg']"
   ]
  },
  {
   "cell_type": "code",
   "execution_count": 31,
   "metadata": {},
   "outputs": [
    {
     "name": "stdout",
     "output_type": "stream",
     "text": [
      "apple 70 2kg\n",
      "mango 550 5kg\n",
      "orange 110 8kg\n"
     ]
    }
   ],
   "source": [
    "for f,p ,q in zip(fruits,prices,qty):\n",
    "   print(f,p,q)\n",
    "   "
   ]
  },
  {
   "cell_type": "code",
   "execution_count": 32,
   "metadata": {},
   "outputs": [
    {
     "name": "stdout",
     "output_type": "stream",
     "text": [
      "raj\n",
      "shivam\n",
      "vivek\n",
      "shyam\n",
      "rahul\n"
     ]
    }
   ],
   "source": [
    "students = ['raj','shivam','vivek','shyam','rahul']\n",
    "for std in students:\n",
    "    print(std)"
   ]
  },
  {
   "cell_type": "code",
   "execution_count": 33,
   "metadata": {},
   "outputs": [
    {
     "name": "stdout",
     "output_type": "stream",
     "text": [
      "0 raj\n",
      "1 shivam\n",
      "2 vivek\n",
      "3 shyam\n",
      "4 rahul\n"
     ]
    }
   ],
   "source": [
    "for i, std in enumerate(students):\n",
    "    print(i,std)"
   ]
  },
  {
   "cell_type": "code",
   "execution_count": 34,
   "metadata": {},
   "outputs": [],
   "source": [
    "roll  = [101,102,103,104,105]"
   ]
  },
  {
   "cell_type": "code",
   "execution_count": 43,
   "metadata": {},
   "outputs": [],
   "source": [
    "sub= ['math','science','hindi','mahabharat','genral']"
   ]
  },
  {
   "cell_type": "code",
   "execution_count": 44,
   "metadata": {},
   "outputs": [
    {
     "name": "stdout",
     "output_type": "stream",
     "text": [
      "raj 101 math\n",
      "shivam 102 science\n",
      "vivek 103 hindi\n",
      "shyam 104 mahabharat\n",
      "rahul 105 genral\n"
     ]
    }
   ],
   "source": [
    "for std,r,s in zip(students,roll,sub):\n",
    "    print(std,r,s)"
   ]
  }
 ],
 "metadata": {
  "kernelspec": {
   "display_name": "Python 3.9.12 ('base')",
   "language": "python",
   "name": "python3"
  },
  "language_info": {
   "codemirror_mode": {
    "name": "ipython",
    "version": 3
   },
   "file_extension": ".py",
   "mimetype": "text/x-python",
   "name": "python",
   "nbconvert_exporter": "python",
   "pygments_lexer": "ipython3",
   "version": "3.9.12"
  },
  "orig_nbformat": 4,
  "vscode": {
   "interpreter": {
    "hash": "3871d2fb87b6fdf71078d49647fd3319df336c418ab740b622c25f862c7f5855"
   }
  }
 },
 "nbformat": 4,
 "nbformat_minor": 2
}
