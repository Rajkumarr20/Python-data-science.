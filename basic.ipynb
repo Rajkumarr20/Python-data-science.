{
 "cells": [
  {
   "cell_type": "code",
   "execution_count": 1,
   "metadata": {},
   "outputs": [
    {
     "name": "stdout",
     "output_type": "stream",
     "text": [
      "\n"
     ]
    }
   ],
   "source": [
    "print()"
   ]
  },
  {
   "cell_type": "code",
   "execution_count": 2,
   "metadata": {},
   "outputs": [
    {
     "name": "stdout",
     "output_type": "stream",
     "text": [
      "Rajkumar Balmeeki\n"
     ]
    }
   ],
   "source": [
    "print(\"Rajkumar Balmeeki\")"
   ]
  },
  {
   "cell_type": "code",
   "execution_count": 3,
   "metadata": {},
   "outputs": [
    {
     "name": "stdout",
     "output_type": "stream",
     "text": [
      "This is an apple and I don't like apple\n"
     ]
    }
   ],
   "source": [
    "print(\"This is an apple and I don't like apple\")"
   ]
  },
  {
   "cell_type": "code",
   "execution_count": 4,
   "metadata": {},
   "outputs": [
    {
     "name": "stdout",
     "output_type": "stream",
     "text": [
      "This is Python Data Science\n",
      "We are going to do code\n",
      "and lean the secret of python\n",
      "thats it\n"
     ]
    }
   ],
   "source": [
    "print(\"This is Python Data Science\")\n",
    "print(\"We are going to do code\")\n",
    "print(\"and lean the secret of python\")\n",
    "print(\"thats it\")"
   ]
  },
  {
   "cell_type": "code",
   "execution_count": 5,
   "metadata": {},
   "outputs": [
    {
     "name": "stdout",
     "output_type": "stream",
     "text": [
      "The Zen of Python, by Tim Peters\n",
      "\n",
      "Beautiful is better than ugly.\n",
      "Explicit is better than implicit.\n",
      "Simple is better than complex.\n",
      "Complex is better than complicated.\n",
      "Flat is better than nested.\n",
      "Sparse is better than dense.\n",
      "Readability counts.\n",
      "Special cases aren't special enough to break the rules.\n",
      "Although practicality beats purity.\n",
      "Errors should never pass silently.\n",
      "Unless explicitly silenced.\n",
      "In the face of ambiguity, refuse the temptation to guess.\n",
      "There should be one-- and preferably only one --obvious way to do it.\n",
      "Although that way may not be obvious at first unless you're Dutch.\n",
      "Now is better than never.\n",
      "Although never is often better than *right* now.\n",
      "If the implementation is hard to explain, it's a bad idea.\n",
      "If the implementation is easy to explain, it may be a good idea.\n",
      "Namespaces are one honking great idea -- let's do more of those!\n"
     ]
    }
   ],
   "source": [
    "import this\n"
   ]
  },
  {
   "cell_type": "code",
   "execution_count": 6,
   "metadata": {},
   "outputs": [
    {
     "name": "stdout",
     "output_type": "stream",
     "text": [
      "This is python data science course \n",
      "we are going to do code\n"
     ]
    }
   ],
   "source": [
    "print('''This is python data science course \n",
    "we are going to do code''')"
   ]
  },
  {
   "cell_type": "code",
   "execution_count": 10,
   "metadata": {},
   "outputs": [
    {
     "name": "stdout",
     "output_type": "stream",
     "text": [
      "1👍🛺🚲🚎✌😎👌😎😁🎶🎉🐱‍🏍✔2👍🛺🚲🚎✌😎👌😎😁🎶🎉🐱‍🏍✔3👍🛺🚲🚎✌😎👌😎😁🎶🎉🐱‍🏍✔4👍🛺🚲🚎✌😎👌😎😁🎶🎉🐱‍🏍✔5👍🛺🚲🚎✌😎👌😎😁🎶🎉🐱‍🏍✔6👍🛺🚲🚎✌😎👌😎😁🎶🎉🐱‍🏍✔7👍🛺🚲🚎✌😎👌😎😁🎶🎉🐱‍🏍✔8👍🛺🚲🚎✌😎👌😎😁🎶🎉🐱‍🏍✔9👍🛺🚲🚎✌😎👌😎😁🎶🎉🐱‍🏍✔10👍🛺🚲🚎✌😎👌😎😁🎶🎉🐱‍🏍✔11👍🛺🚲🚎✌😎👌😎😁🎶🎉🐱‍🏍✔12\n"
     ]
    }
   ],
   "source": [
    "print(1,2,3,4,5,6,7,8,9,10,11,12, sep='👍🛺🚲🚎✌😎👌😎😁🎶🎉🐱‍🏍✔')"
   ]
  },
  {
   "cell_type": "markdown",
   "metadata": {},
   "source": [
    "sep = seperation symbol emoji (Emoji = window + .)"
   ]
  },
  {
   "cell_type": "code",
   "execution_count": 11,
   "metadata": {},
   "outputs": [
    {
     "name": "stdout",
     "output_type": "stream",
     "text": [
      "This is multiline message "
     ]
    }
   ],
   "source": [
    "print('This', end=' ')\n",
    "print('is', end=' ')\n",
    "print('multiline', end=' ')\n",
    "print('message', end=' ')"
   ]
  },
  {
   "cell_type": "markdown",
   "metadata": {},
   "source": [
    "end = what comes at end of the line (it may be emoji, space,equal etc)\n",
    "\n",
    "creating a variable in python age=18 name= Jonny color2='red is_sleeping= false"
   ]
  },
  {
   "cell_type": "code",
   "execution_count": null,
   "metadata": {},
   "outputs": [],
   "source": [
    "age = 120\n",
    "name = ('Bruce Wyne')"
   ]
  },
  {
   "cell_type": "code",
   "execution_count": 12,
   "metadata": {},
   "outputs": [],
   "source": [
    "name = 'john'"
   ]
  },
  {
   "cell_type": "code",
   "execution_count": null,
   "metadata": {},
   "outputs": [],
   "source": [
    "Datatype can changing by the value of a variable.(New Variable of the same Data Type can over write the pricious one)"
   ]
  },
  {
   "cell_type": "code",
   "execution_count": 13,
   "metadata": {},
   "outputs": [],
   "source": [
    "age= 19"
   ]
  },
  {
   "cell_type": "markdown",
   "metadata": {},
   "source": [
    "# Integer\n",
    "\n",
    "Integer in python means any numeric value(positive or negative) integer can be of any length,it is only limited by the memory available we can use the type() function to know which class a variable or a value belongs to 1, +4\n",
    "Example x= 34 Y=547586 Z=98745632589874125"
   ]
  },
  {
   "cell_type": "code",
   "execution_count": 14,
   "metadata": {},
   "outputs": [],
   "source": [
    "x = 7\n",
    "Y = 795\n",
    "Z = 699875441225788"
   ]
  },
  {
   "cell_type": "markdown",
   "metadata": {},
   "source": [
    "# Float\n",
    "Float or 'floating print number' ,positive or negative,containing one or more decimal float can also be scientific numbers with an 'e' to inducate the power of 10 We can use type()\n",
    "String"
   ]
  },
  {
   "cell_type": "markdown",
   "metadata": {},
   "source": [
    "# String\n",
    "String literals in python are surrounded by either single quatation mark, or double quatation mark MULTILINE STRINGS: we can assign a multiline string by using three quotes'''hey''"
   ]
  },
  {
   "cell_type": "markdown",
   "metadata": {},
   "source": [
    "# del\n",
    "del is use to delete variable from the memory\n"
   ]
  },
  {
   "cell_type": "code",
   "execution_count": 17,
   "metadata": {},
   "outputs": [],
   "source": [
    "del Y"
   ]
  },
  {
   "cell_type": "markdown",
   "metadata": {},
   "source": [
    "# Boolean\n",
    "True or False"
   ]
  },
  {
   "cell_type": "code",
   "execution_count": 18,
   "metadata": {},
   "outputs": [],
   "source": [
    "is_coding =True\n",
    "is_fun =True\n",
    "are_u_border = False"
   ]
  },
  {
   "cell_type": "markdown",
   "metadata": {},
   "source": [
    "# Nonetype\n",
    "null value and no CREATE a empty variable"
   ]
  },
  {
   "cell_type": "markdown",
   "metadata": {},
   "source": [
    "# list\n",
    "immutable"
   ]
  },
  {
   "cell_type": "code",
   "execution_count": 19,
   "metadata": {},
   "outputs": [],
   "source": [
    "a = [5,10,15,20,25,30,35,40]\n",
    "vals = [1,2,2,'python']\n",
    "colors = ['red','black','white','yellow']"
   ]
  },
  {
   "cell_type": "markdown",
   "metadata": {},
   "source": [
    "# Sets"
   ]
  },
  {
   "cell_type": "code",
   "execution_count": 20,
   "metadata": {},
   "outputs": [],
   "source": [
    "a = {5,10,15,20,25,30,5,40}\n",
    "vals = {1,2,2,'python'}\n",
    "colors = {'red','black','white','yellow'}"
   ]
  },
  {
   "cell_type": "markdown",
   "metadata": {},
   "source": [
    "# Tuple"
   ]
  },
  {
   "cell_type": "code",
   "execution_count": 21,
   "metadata": {},
   "outputs": [],
   "source": [
    "a = (5,10,15,20,25,30,35,40)\n",
    "vals = (1,2,2,'python')\n",
    "colors = ('red','black','white','yellow')"
   ]
  },
  {
   "cell_type": "markdown",
   "metadata": {},
   "source": [
    "# Dictionary"
   ]
  },
  {
   "cell_type": "code",
   "execution_count": 22,
   "metadata": {},
   "outputs": [],
   "source": [
    "car_info = {\n",
    "    \"brand\": \"ford\",\n",
    "    \"model\":\"Mustng\",\n",
    "    \"year\":1964\n",
    "}\n",
    " "
   ]
  },
  {
   "cell_type": "markdown",
   "metadata": {},
   "source": [
    "# Input"
   ]
  },
  {
   "cell_type": "code",
   "execution_count": 23,
   "metadata": {},
   "outputs": [
    {
     "name": "stdout",
     "output_type": "stream",
     "text": [
      "so according to you\n",
      "You are Rajkumar Balmeeki\n",
      "and you live in Lucknow\n"
     ]
    }
   ],
   "source": [
    "name = input(\"What is your name\")\n",
    "city = input(\"and where do you live in\")\n",
    "print(\"so according to you\")\n",
    "print(\"You are\",name)\n",
    "print(\"and you live in\",city)"
   ]
  },
  {
   "cell_type": "markdown",
   "metadata": {},
   "source": [
    "# Keywords in Python\n",
    "Keywords are reserved words in python. They are used to define syntax and structure of the python. There are 35 keywords available in python 3.9. They are case sensitive"
   ]
  },
  {
   "cell_type": "markdown",
   "metadata": {},
   "source": [
    "# Operators\n",
    "There are 7 types of operators available in python."
   ]
  },
  {
   "cell_type": "markdown",
   "metadata": {},
   "source": [
    "# 1.Arithmetic Operators"
   ]
  },
  {
   "cell_type": "code",
   "execution_count": 24,
   "metadata": {},
   "outputs": [
    {
     "name": "stdout",
     "output_type": "stream",
     "text": [
      "105\n",
      "95\n",
      "500\n",
      "20.0\n",
      "20\n",
      "1\n",
      "10000000000\n"
     ]
    }
   ],
   "source": [
    "a = 100\n",
    "b = 5\n",
    "print(a + b)\n",
    "print(a - b)\n",
    "print(a * b)\n",
    "print(a / b)\n",
    "print(a // b) # int div\n",
    "print(16 % 5) # remainder\n",
    "print(a ** b) # Exponentiation"
   ]
  },
  {
   "cell_type": "markdown",
   "metadata": {},
   "source": [
    "# Assignment Operators"
   ]
  },
  {
   "cell_type": "code",
   "execution_count": 30,
   "metadata": {},
   "outputs": [
    {
     "name": "stdout",
     "output_type": "stream",
     "text": [
      "35 15\n"
     ]
    }
   ],
   "source": [
    "x = 35\n",
    "y = 15\n",
    "print(x, y)"
   ]
  },
  {
   "cell_type": "markdown",
   "metadata": {},
   "source": [
    "# For updating"
   ]
  },
  {
   "cell_type": "code",
   "execution_count": 31,
   "metadata": {},
   "outputs": [
    {
     "name": "stdout",
     "output_type": "stream",
     "text": [
      "42 12\n"
     ]
    }
   ],
   "source": [
    "x += 7\n",
    "y -= 3\n",
    "print(x, y)"
   ]
  },
  {
   "cell_type": "code",
   "execution_count": 32,
   "metadata": {},
   "outputs": [
    {
     "name": "stdout",
     "output_type": "stream",
     "text": [
      "84 0\n"
     ]
    }
   ],
   "source": [
    "x *= 2\n",
    "y %= 3\n",
    "print(x, y)"
   ]
  },
  {
   "cell_type": "code",
   "execution_count": 34,
   "metadata": {},
   "outputs": [
    {
     "name": "stdout",
     "output_type": "stream",
     "text": [
      "8.4 0\n"
     ]
    }
   ],
   "source": [
    "x /= 10\n",
    "y *= 5\n",
    "print(x, y)"
   ]
  },
  {
   "cell_type": "code",
   "execution_count": 35,
   "metadata": {},
   "outputs": [
    {
     "name": "stdout",
     "output_type": "stream",
     "text": [
      "351298.0316160001 0\n"
     ]
    }
   ],
   "source": [
    "x **= 6\n",
    "y //= 7\n",
    "print(x,y)"
   ]
  },
  {
   "cell_type": "markdown",
   "metadata": {},
   "source": [
    "# 2.Comparison Operators\n",
    "compares two values and returns a boolean value, either true or false. Python has 6 comparison operator"
   ]
  },
  {
   "cell_type": "code",
   "execution_count": 36,
   "metadata": {},
   "outputs": [
    {
     "name": "stdout",
     "output_type": "stream",
     "text": [
      "True\n",
      "False\n",
      "True\n",
      "False\n",
      "True\n",
      "False\n"
     ]
    }
   ],
   "source": [
    "print(a > b) # greater than\n",
    "print(a < b) # less than\n",
    "print(a >= b) # greater than equals to\n",
    "print(a <= b) # less than equals to\n",
    "print(a != b) # not equals to \n",
    "print(a == b) # equals to"
   ]
  },
  {
   "cell_type": "markdown",
   "metadata": {},
   "source": [
    "# 3. logical operators\n",
    "used to combine conditional statements."
   ]
  },
  {
   "cell_type": "code",
   "execution_count": 37,
   "metadata": {},
   "outputs": [
    {
     "name": "stdout",
     "output_type": "stream",
     "text": [
      "False\n",
      "True\n",
      "False\n"
     ]
    }
   ],
   "source": [
    "print(a > b and a < b)  # When both condition true\n",
    "print(a > b or a < b) # return true if one statement is true \n",
    "print(not (a  > b and a  > b))"
   ]
  },
  {
   "cell_type": "markdown",
   "metadata": {},
   "source": [
    "# 4. Bitwise Operators\n",
    "are used to compare binary numbers\n",
    "6 types = &, |, ^, ~, <<, >>"
   ]
  },
  {
   "cell_type": "markdown",
   "metadata": {},
   "source": [
    "# 5. Membership Operators\n",
    "are used to test if a sequence is presented in an object or for searching of an item (case sensitive)"
   ]
  },
  {
   "cell_type": "code",
   "execution_count": 38,
   "metadata": {},
   "outputs": [
    {
     "name": "stdout",
     "output_type": "stream",
     "text": [
      "True\n",
      "True\n"
     ]
    }
   ],
   "source": [
    "colors = ['red', 'black','white','pink','yellow']\n",
    "print('red' in colors)\n",
    "print('green' not in colors)"
   ]
  },
  {
   "cell_type": "markdown",
   "metadata": {},
   "source": [
    "is Operator\n",
    "\n",
    "to check whether two object belong same memory location or not\n"
   ]
  },
  {
   "cell_type": "markdown",
   "metadata": {},
   "source": [
    "# WAP to calculate the area of a cicrle."
   ]
  },
  {
   "cell_type": "code",
   "execution_count": 40,
   "metadata": {},
   "outputs": [
    {
     "name": "stdout",
     "output_type": "stream",
     "text": [
      "1962.5 for a circle\n"
     ]
    }
   ],
   "source": [
    "radius = 25\n",
    "area = 3.14 * radius ** 2\n",
    "print (area ,\"for a circle\")"
   ]
  },
  {
   "cell_type": "code",
   "execution_count": 42,
   "metadata": {},
   "outputs": [
    {
     "name": "stdout",
     "output_type": "stream",
     "text": [
      "2289.06 for a circle with r 27\n"
     ]
    }
   ],
   "source": [
    "radius = int(input(\"enter the radius of a circle\"))\n",
    "area = 3.14 * radius ** 2\n",
    "print (area, \"for a circle with r\",radius)"
   ]
  },
  {
   "cell_type": "markdown",
   "metadata": {},
   "source": [
    "# To calculate the area of the rectangle"
   ]
  },
  {
   "cell_type": "code",
   "execution_count": 44,
   "metadata": {},
   "outputs": [
    {
     "name": "stdout",
     "output_type": "stream",
     "text": [
      "the area of the rectangle is 855\n"
     ]
    }
   ],
   "source": [
    "l = 15\n",
    "b = 57\n",
    "print (\"the area of the rectangle is\",l * b)"
   ]
  },
  {
   "cell_type": "code",
   "execution_count": 45,
   "metadata": {},
   "outputs": [
    {
     "name": "stdout",
     "output_type": "stream",
     "text": [
      "2565.0 the area of a rectangle\n"
     ]
    }
   ],
   "source": [
    "length = float(input(\"Enter the length of rectangle\"))\n",
    "breadth = float(input(\"enter the breadth of rectangle\"))\n",
    "print (length * breadth, \"the area of a rectangle\")"
   ]
  },
  {
   "cell_type": "markdown",
   "metadata": {},
   "source": [
    "# To calculate the area of a triangle"
   ]
  },
  {
   "cell_type": "code",
   "execution_count": 47,
   "metadata": {},
   "outputs": [
    {
     "name": "stdout",
     "output_type": "stream",
     "text": [
      "2964.5  is the area of the triangle\n"
     ]
    }
   ],
   "source": [
    "height = int(input(\"enter the height of the triangle\"))\n",
    "base = int(input(\"enter the base of the triangle\"))\n",
    "print (0.5 * height * base,\" is the area of the triangle\")"
   ]
  },
  {
   "cell_type": "markdown",
   "metadata": {},
   "source": [
    "# Calculate the hypotenuse using base and perpendicular"
   ]
  },
  {
   "cell_type": "code",
   "execution_count": 49,
   "metadata": {},
   "outputs": [
    {
     "name": "stdout",
     "output_type": "stream",
     "text": [
      "2410 is the hypotenuse\n"
     ]
    }
   ],
   "source": [
    "p = int(input(\"enter the perpendicular \"))\n",
    "b = int(input(\"enter the base\"))\n",
    "print (p * p + b * b, \"is the hypotenuse\")"
   ]
  }
 ],
 "metadata": {
  "kernelspec": {
   "display_name": "Python 3.9.12 ('base')",
   "language": "python",
   "name": "python3"
  },
  "language_info": {
   "codemirror_mode": {
    "name": "ipython",
    "version": 3
   },
   "file_extension": ".py",
   "mimetype": "text/x-python",
   "name": "python",
   "nbconvert_exporter": "python",
   "pygments_lexer": "ipython3",
   "version": "3.9.12"
  },
  "orig_nbformat": 4,
  "vscode": {
   "interpreter": {
    "hash": "3871d2fb87b6fdf71078d49647fd3319df336c418ab740b622c25f862c7f5855"
   }
  }
 },
 "nbformat": 4,
 "nbformat_minor": 2
}
